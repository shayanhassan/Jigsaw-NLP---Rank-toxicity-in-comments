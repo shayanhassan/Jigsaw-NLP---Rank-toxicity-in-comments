{
 "cells": [
  {
   "cell_type": "markdown",
   "id": "3b3f6663",
   "metadata": {},
   "source": [
    "Read the dataset"
   ]
  },
  {
   "cell_type": "code",
   "execution_count": 7,
   "id": "2ffb9e5d",
   "metadata": {},
   "outputs": [],
   "source": [
    "import pandas as pd\n",
    "import numpy as np\n",
    "\n",
    "comments = pd.read_csv(\"jigsaw-toxic-severity-rating/comments_to_score.csv\")"
   ]
  },
  {
   "cell_type": "code",
   "execution_count": 4,
   "id": "fc973761",
   "metadata": {},
   "outputs": [
    {
     "name": "stdout",
     "output_type": "stream",
     "text": [
      "<class 'pandas.core.frame.DataFrame'>\n",
      "RangeIndex: 7537 entries, 0 to 7536\n",
      "Data columns (total 2 columns):\n",
      " #   Column      Non-Null Count  Dtype \n",
      "---  ------      --------------  ----- \n",
      " 0   comment_id  7537 non-null   int64 \n",
      " 1   text        7537 non-null   object\n",
      "dtypes: int64(1), object(1)\n",
      "memory usage: 117.9+ KB\n"
     ]
    }
   ],
   "source": [
    "comments.info()"
   ]
  },
  {
   "cell_type": "code",
   "execution_count": 8,
   "id": "5a3fb199",
   "metadata": {},
   "outputs": [],
   "source": [
    "comment_id = comments['comment_id'].tolist()\n",
    "text = comments['text'].tolist()"
   ]
  },
  {
   "cell_type": "code",
   "execution_count": 10,
   "id": "3846cb2f",
   "metadata": {},
   "outputs": [
    {
     "data": {
      "text/plain": [
       "7537"
      ]
     },
     "execution_count": 10,
     "metadata": {},
     "output_type": "execute_result"
    }
   ],
   "source": [
    "len(text)"
   ]
  },
  {
   "cell_type": "markdown",
   "id": "2d7bbc5d",
   "metadata": {},
   "source": [
    "Apply VADER to the text"
   ]
  },
  {
   "cell_type": "code",
   "execution_count": 2,
   "id": "e2285990",
   "metadata": {},
   "outputs": [],
   "source": [
    "from nltk.sentiment.vader import SentimentIntensityAnalyzer"
   ]
  },
  {
   "cell_type": "code",
   "execution_count": 12,
   "id": "67006418",
   "metadata": {},
   "outputs": [],
   "source": [
    "# to tokensze sentences\n",
    "# sentences = []\n",
    "# from nltk import tokenize\n",
    "# for t in text:\n",
    "#     lines_list = tokenize.sent_tokenize(t)\n",
    "#     sentences.extend(lines_list)"
   ]
  },
  {
   "cell_type": "code",
   "execution_count": 13,
   "id": "aa46cd65",
   "metadata": {},
   "outputs": [
    {
     "data": {
      "text/plain": [
       "36975"
      ]
     },
     "execution_count": 13,
     "metadata": {},
     "output_type": "execute_result"
    }
   ],
   "source": [
    "# len(sentences)"
   ]
  },
  {
   "cell_type": "code",
   "execution_count": 25,
   "id": "c32d849f",
   "metadata": {},
   "outputs": [],
   "source": [
    "scores = []\n",
    "sid = SentimentIntensityAnalyzer()\n",
    "for t in text:\n",
    "    ss = sid.polarity_scores(t)\n",
    "    scores.append(ss['compound'])"
   ]
  },
  {
   "cell_type": "code",
   "execution_count": 26,
   "id": "5d255aa4",
   "metadata": {},
   "outputs": [
    {
     "data": {
      "text/plain": [
       "7537"
      ]
     },
     "execution_count": 26,
     "metadata": {},
     "output_type": "execute_result"
    }
   ],
   "source": [
    "len(scores)"
   ]
  },
  {
   "cell_type": "code",
   "execution_count": 29,
   "id": "97c4cef7",
   "metadata": {},
   "outputs": [],
   "source": [
    "df = pd.DataFrame({'comment_id':comment_id,'score': scores})"
   ]
  },
  {
   "cell_type": "code",
   "execution_count": 31,
   "id": "8331a37f",
   "metadata": {},
   "outputs": [],
   "source": [
    "#saving the test file\n",
    "df.to_csv(\"submission_test.csv\", index=False)"
   ]
  },
  {
   "cell_type": "markdown",
   "id": "53d6b279",
   "metadata": {},
   "source": [
    "## Validating the model"
   ]
  },
  {
   "cell_type": "code",
   "execution_count": 33,
   "id": "e9b1cb37",
   "metadata": {},
   "outputs": [],
   "source": [
    "comments['score'] = scores"
   ]
  },
  {
   "cell_type": "code",
   "execution_count": 35,
   "id": "95a5187e",
   "metadata": {},
   "outputs": [
    {
     "data": {
      "text/html": [
       "<div>\n",
       "<style scoped>\n",
       "    .dataframe tbody tr th:only-of-type {\n",
       "        vertical-align: middle;\n",
       "    }\n",
       "\n",
       "    .dataframe tbody tr th {\n",
       "        vertical-align: top;\n",
       "    }\n",
       "\n",
       "    .dataframe thead th {\n",
       "        text-align: right;\n",
       "    }\n",
       "</style>\n",
       "<table border=\"1\" class=\"dataframe\">\n",
       "  <thead>\n",
       "    <tr style=\"text-align: right;\">\n",
       "      <th></th>\n",
       "      <th>comment_id</th>\n",
       "      <th>text</th>\n",
       "      <th>score</th>\n",
       "    </tr>\n",
       "  </thead>\n",
       "  <tbody>\n",
       "    <tr>\n",
       "      <th>0</th>\n",
       "      <td>114890</td>\n",
       "      <td>\"\\n \\n\\nGjalexei, you asked about whether ther...</td>\n",
       "      <td>-0.4980</td>\n",
       "    </tr>\n",
       "    <tr>\n",
       "      <th>1</th>\n",
       "      <td>732895</td>\n",
       "      <td>Looks like be have an abuser , can you please ...</td>\n",
       "      <td>0.5537</td>\n",
       "    </tr>\n",
       "    <tr>\n",
       "      <th>2</th>\n",
       "      <td>1139051</td>\n",
       "      <td>I confess to having complete (and apparently b...</td>\n",
       "      <td>-0.3404</td>\n",
       "    </tr>\n",
       "    <tr>\n",
       "      <th>3</th>\n",
       "      <td>1434512</td>\n",
       "      <td>\"\\n\\nFreud's ideas are certainly much discusse...</td>\n",
       "      <td>-0.7815</td>\n",
       "    </tr>\n",
       "    <tr>\n",
       "      <th>4</th>\n",
       "      <td>2084821</td>\n",
       "      <td>It is not just you. This is a laundry list of ...</td>\n",
       "      <td>-0.5267</td>\n",
       "    </tr>\n",
       "    <tr>\n",
       "      <th>...</th>\n",
       "      <td>...</td>\n",
       "      <td>...</td>\n",
       "      <td>...</td>\n",
       "    </tr>\n",
       "    <tr>\n",
       "      <th>7532</th>\n",
       "      <td>504235362</td>\n",
       "      <td>Go away, you annoying vandal.</td>\n",
       "      <td>-0.4019</td>\n",
       "    </tr>\n",
       "    <tr>\n",
       "      <th>7533</th>\n",
       "      <td>504235566</td>\n",
       "      <td>This user is a vandal.</td>\n",
       "      <td>0.0000</td>\n",
       "    </tr>\n",
       "    <tr>\n",
       "      <th>7534</th>\n",
       "      <td>504308177</td>\n",
       "      <td>\" \\n\\nSorry to sound like a pain, but one by f...</td>\n",
       "      <td>-0.9354</td>\n",
       "    </tr>\n",
       "    <tr>\n",
       "      <th>7535</th>\n",
       "      <td>504570375</td>\n",
       "      <td>Well it's pretty fucking irrelevant now I'm un...</td>\n",
       "      <td>0.6800</td>\n",
       "    </tr>\n",
       "    <tr>\n",
       "      <th>7536</th>\n",
       "      <td>504598250</td>\n",
       "      <td>The team name is Great Britain and Northern Ir...</td>\n",
       "      <td>0.3400</td>\n",
       "    </tr>\n",
       "  </tbody>\n",
       "</table>\n",
       "<p>7537 rows × 3 columns</p>\n",
       "</div>"
      ],
      "text/plain": [
       "      comment_id                                               text   score\n",
       "0         114890  \"\\n \\n\\nGjalexei, you asked about whether ther... -0.4980\n",
       "1         732895  Looks like be have an abuser , can you please ...  0.5537\n",
       "2        1139051  I confess to having complete (and apparently b... -0.3404\n",
       "3        1434512  \"\\n\\nFreud's ideas are certainly much discusse... -0.7815\n",
       "4        2084821  It is not just you. This is a laundry list of ... -0.5267\n",
       "...          ...                                                ...     ...\n",
       "7532   504235362                      Go away, you annoying vandal. -0.4019\n",
       "7533   504235566                           This user is a vandal.    0.0000\n",
       "7534   504308177  \" \\n\\nSorry to sound like a pain, but one by f... -0.9354\n",
       "7535   504570375  Well it's pretty fucking irrelevant now I'm un...  0.6800\n",
       "7536   504598250  The team name is Great Britain and Northern Ir...  0.3400\n",
       "\n",
       "[7537 rows x 3 columns]"
      ]
     },
     "execution_count": 35,
     "metadata": {},
     "output_type": "execute_result"
    }
   ],
   "source": [
    "#this is the final dataset that we have with the VADER compound score\n",
    "comments"
   ]
  },
  {
   "cell_type": "code",
   "execution_count": 16,
   "id": "3cf21944",
   "metadata": {},
   "outputs": [],
   "source": [
    "#adding the validation dataset\n",
    "validation_data = pd.read_csv(\"jigsaw-toxic-severity-rating/validation_data.csv\")"
   ]
  },
  {
   "cell_type": "code",
   "execution_count": 17,
   "id": "cdb265f3",
   "metadata": {},
   "outputs": [],
   "source": [
    "score1=[]\n",
    "score2=[]\n",
    "results=[]\n",
    "sid = SentimentIntensityAnalyzer()\n",
    "for index, row in validation_data.iterrows():\n",
    "    #comment1\n",
    "    comment1 = row['less_toxic']\n",
    "    ss1 = sid.polarity_scores(comment1)\n",
    "    scr1 = ss1['compound']\n",
    "    score1.append(scr1)\n",
    "\n",
    "    #comment1\n",
    "    comment2 = row['more_toxic']\n",
    "    ss2 = sid.polarity_scores(comment2)\n",
    "    scr2 = ss2['compound']\n",
    "    score2.append(scr2)\n",
    "    \n",
    "    #append the result outcome, 1 if our toxicity match with rankers else 0\n",
    "    if scr1>scr2:\n",
    "        result = 1\n",
    "    else:\n",
    "        result = 0\n",
    "    results.append(result)"
   ]
  },
  {
   "cell_type": "code",
   "execution_count": 18,
   "id": "c95b2f94",
   "metadata": {},
   "outputs": [
    {
     "data": {
      "text/plain": [
       "30108"
      ]
     },
     "execution_count": 18,
     "metadata": {},
     "output_type": "execute_result"
    }
   ],
   "source": [
    "len(validation_data)"
   ]
  },
  {
   "cell_type": "code",
   "execution_count": 19,
   "id": "0ffc90bc",
   "metadata": {},
   "outputs": [],
   "source": [
    "validation_data[\"score1\"] = score1\n",
    "validation_data[\"score2\"] = score2\n",
    "validation_data[\"result\"] = results"
   ]
  },
  {
   "cell_type": "code",
   "execution_count": 20,
   "id": "a31e13ff",
   "metadata": {},
   "outputs": [
    {
     "data": {
      "text/html": [
       "<div>\n",
       "<style scoped>\n",
       "    .dataframe tbody tr th:only-of-type {\n",
       "        vertical-align: middle;\n",
       "    }\n",
       "\n",
       "    .dataframe tbody tr th {\n",
       "        vertical-align: top;\n",
       "    }\n",
       "\n",
       "    .dataframe thead th {\n",
       "        text-align: right;\n",
       "    }\n",
       "</style>\n",
       "<table border=\"1\" class=\"dataframe\">\n",
       "  <thead>\n",
       "    <tr style=\"text-align: right;\">\n",
       "      <th></th>\n",
       "      <th>worker</th>\n",
       "      <th>less_toxic</th>\n",
       "      <th>more_toxic</th>\n",
       "      <th>score1</th>\n",
       "      <th>score2</th>\n",
       "      <th>result</th>\n",
       "    </tr>\n",
       "  </thead>\n",
       "  <tbody>\n",
       "    <tr>\n",
       "      <th>0</th>\n",
       "      <td>313</td>\n",
       "      <td>This article sucks \\n\\nwoo woo wooooooo</td>\n",
       "      <td>WHAT!!!!!!!!?!?!!?!?!!?!?!?!?!!!!!!!!!!!!!!!!!...</td>\n",
       "      <td>0.5719</td>\n",
       "      <td>0.8053</td>\n",
       "      <td>0</td>\n",
       "    </tr>\n",
       "    <tr>\n",
       "      <th>1</th>\n",
       "      <td>188</td>\n",
       "      <td>\"And yes, people should recognize that but the...</td>\n",
       "      <td>Daphne Guinness \\n\\nTop of the mornin' my fav...</td>\n",
       "      <td>0.8020</td>\n",
       "      <td>-0.3134</td>\n",
       "      <td>1</td>\n",
       "    </tr>\n",
       "    <tr>\n",
       "      <th>2</th>\n",
       "      <td>82</td>\n",
       "      <td>Western Media?\\n\\nYup, because every crime in...</td>\n",
       "      <td>\"Atom you don't believe actual photos of mastu...</td>\n",
       "      <td>-0.7906</td>\n",
       "      <td>-0.4882</td>\n",
       "      <td>0</td>\n",
       "    </tr>\n",
       "    <tr>\n",
       "      <th>3</th>\n",
       "      <td>347</td>\n",
       "      <td>And you removed it! You numbskull! I don't car...</td>\n",
       "      <td>You seem to have sand in your vagina.\\n\\nMight...</td>\n",
       "      <td>-0.8517</td>\n",
       "      <td>-0.7845</td>\n",
       "      <td>0</td>\n",
       "    </tr>\n",
       "    <tr>\n",
       "      <th>4</th>\n",
       "      <td>539</td>\n",
       "      <td>smelly vagina \\n\\nBluerasberry why don't you ...</td>\n",
       "      <td>hey \\n\\nway to support nazis, you racist</td>\n",
       "      <td>0.0000</td>\n",
       "      <td>-0.3182</td>\n",
       "      <td>1</td>\n",
       "    </tr>\n",
       "    <tr>\n",
       "      <th>...</th>\n",
       "      <td>...</td>\n",
       "      <td>...</td>\n",
       "      <td>...</td>\n",
       "      <td>...</td>\n",
       "      <td>...</td>\n",
       "      <td>...</td>\n",
       "    </tr>\n",
       "    <tr>\n",
       "      <th>30103</th>\n",
       "      <td>461</td>\n",
       "      <td>I'm sorry. I'm not an admin. I will give you t...</td>\n",
       "      <td>get out my large penis</td>\n",
       "      <td>-0.8223</td>\n",
       "      <td>0.0000</td>\n",
       "      <td>0</td>\n",
       "    </tr>\n",
       "    <tr>\n",
       "      <th>30104</th>\n",
       "      <td>527</td>\n",
       "      <td>I'm sorry. I'm not an admin. I will give you t...</td>\n",
       "      <td>get out my large penis</td>\n",
       "      <td>-0.8223</td>\n",
       "      <td>0.0000</td>\n",
       "      <td>0</td>\n",
       "    </tr>\n",
       "    <tr>\n",
       "      <th>30105</th>\n",
       "      <td>352</td>\n",
       "      <td>wow...\\nare you out of your mind, how was my e...</td>\n",
       "      <td>Piss off you slant eyed-gook</td>\n",
       "      <td>0.0000</td>\n",
       "      <td>-0.4019</td>\n",
       "      <td>1</td>\n",
       "    </tr>\n",
       "    <tr>\n",
       "      <th>30106</th>\n",
       "      <td>311</td>\n",
       "      <td>wow...\\nare you out of your mind, how was my e...</td>\n",
       "      <td>Piss off you slant eyed-gook</td>\n",
       "      <td>0.0000</td>\n",
       "      <td>-0.4019</td>\n",
       "      <td>1</td>\n",
       "    </tr>\n",
       "    <tr>\n",
       "      <th>30107</th>\n",
       "      <td>54</td>\n",
       "      <td>wow...\\nare you out of your mind, how was my e...</td>\n",
       "      <td>Piss off you slant eyed-gook</td>\n",
       "      <td>0.0000</td>\n",
       "      <td>-0.4019</td>\n",
       "      <td>1</td>\n",
       "    </tr>\n",
       "  </tbody>\n",
       "</table>\n",
       "<p>30108 rows × 6 columns</p>\n",
       "</div>"
      ],
      "text/plain": [
       "       worker                                         less_toxic  \\\n",
       "0         313            This article sucks \\n\\nwoo woo wooooooo   \n",
       "1         188  \"And yes, people should recognize that but the...   \n",
       "2          82   Western Media?\\n\\nYup, because every crime in...   \n",
       "3         347  And you removed it! You numbskull! I don't car...   \n",
       "4         539   smelly vagina \\n\\nBluerasberry why don't you ...   \n",
       "...       ...                                                ...   \n",
       "30103     461  I'm sorry. I'm not an admin. I will give you t...   \n",
       "30104     527  I'm sorry. I'm not an admin. I will give you t...   \n",
       "30105     352  wow...\\nare you out of your mind, how was my e...   \n",
       "30106     311  wow...\\nare you out of your mind, how was my e...   \n",
       "30107      54  wow...\\nare you out of your mind, how was my e...   \n",
       "\n",
       "                                              more_toxic  score1  score2  \\\n",
       "0      WHAT!!!!!!!!?!?!!?!?!!?!?!?!?!!!!!!!!!!!!!!!!!...  0.5719  0.8053   \n",
       "1       Daphne Guinness \\n\\nTop of the mornin' my fav...  0.8020 -0.3134   \n",
       "2      \"Atom you don't believe actual photos of mastu... -0.7906 -0.4882   \n",
       "3      You seem to have sand in your vagina.\\n\\nMight... -0.8517 -0.7845   \n",
       "4               hey \\n\\nway to support nazis, you racist  0.0000 -0.3182   \n",
       "...                                                  ...     ...     ...   \n",
       "30103                             get out my large penis -0.8223  0.0000   \n",
       "30104                             get out my large penis -0.8223  0.0000   \n",
       "30105                       Piss off you slant eyed-gook  0.0000 -0.4019   \n",
       "30106                       Piss off you slant eyed-gook  0.0000 -0.4019   \n",
       "30107                       Piss off you slant eyed-gook  0.0000 -0.4019   \n",
       "\n",
       "       result  \n",
       "0           0  \n",
       "1           1  \n",
       "2           0  \n",
       "3           0  \n",
       "4           1  \n",
       "...       ...  \n",
       "30103       0  \n",
       "30104       0  \n",
       "30105       1  \n",
       "30106       1  \n",
       "30107       1  \n",
       "\n",
       "[30108 rows x 6 columns]"
      ]
     },
     "execution_count": 20,
     "metadata": {},
     "output_type": "execute_result"
    }
   ],
   "source": [
    "validation_data"
   ]
  },
  {
   "cell_type": "code",
   "execution_count": 21,
   "id": "3f21f8a3",
   "metadata": {},
   "outputs": [
    {
     "data": {
      "text/plain": [
       "1    0.56945\n",
       "0    0.43055\n",
       "Name: result, dtype: float64"
      ]
     },
     "execution_count": 21,
     "metadata": {},
     "output_type": "execute_result"
    }
   ],
   "source": [
    "validation_data['result'].value_counts(normalize=True)"
   ]
  },
  {
   "cell_type": "markdown",
   "id": "aa6b1b76",
   "metadata": {},
   "source": [
    "#### Accuracy is only 56.945% when we directly use VADER"
   ]
  },
  {
   "cell_type": "markdown",
   "id": "397a5e88",
   "metadata": {},
   "source": [
    "#### Let's try it again by tokenizing the sentences and averaging the score"
   ]
  },
  {
   "cell_type": "markdown",
   "id": "4127bac8",
   "metadata": {},
   "source": [
    "### VADER tuning by tokenizing sentences in each comment"
   ]
  },
  {
   "cell_type": "code",
   "execution_count": 22,
   "id": "f6c6a673",
   "metadata": {},
   "outputs": [],
   "source": [
    "import pandas as pd\n",
    "import numpy as np\n",
    "\n",
    "comments = pd.read_csv(\"jigsaw-toxic-severity-rating/comments_to_score.csv\")"
   ]
  },
  {
   "cell_type": "code",
   "execution_count": 6,
   "id": "1da634c0",
   "metadata": {},
   "outputs": [],
   "source": [
    "comment_id = comments['comment_id'].tolist()\n",
    "text = comments['text'].tolist()"
   ]
  },
  {
   "cell_type": "code",
   "execution_count": 28,
   "id": "8b0a96d3",
   "metadata": {},
   "outputs": [],
   "source": [
    "from nltk.sentiment.vader import SentimentIntensityAnalyzer\n",
    "from nltk import tokenize\n",
    "sid = SentimentIntensityAnalyzer()\n",
    "\n",
    "scores = []\n",
    "\n",
    "for t in text:\n",
    "    line_score=[]\n",
    "    lines_list = tokenize.sent_tokenize(t)\n",
    "    for l in lines_list:\n",
    "        ss = sid.polarity_scores(t)\n",
    "        line_score.append(ss['compound'])\n",
    "    avg_score = sum(line_score)/len(line_score)\n",
    "    scores.append(avg_score)"
   ]
  },
  {
   "cell_type": "code",
   "execution_count": 29,
   "id": "f52061b1",
   "metadata": {},
   "outputs": [
    {
     "data": {
      "text/plain": [
       "7537"
      ]
     },
     "execution_count": 29,
     "metadata": {},
     "output_type": "execute_result"
    }
   ],
   "source": [
    "len(scores)"
   ]
  },
  {
   "cell_type": "code",
   "execution_count": 30,
   "id": "1af50f17",
   "metadata": {},
   "outputs": [],
   "source": [
    "df = pd.DataFrame({'comment_id':comment_id,'score': scores})"
   ]
  },
  {
   "cell_type": "code",
   "execution_count": 31,
   "id": "4a31accb",
   "metadata": {},
   "outputs": [],
   "source": [
    "#saving the submission file\n",
    "df.to_csv(\"submission_test2.csv\", index=False)"
   ]
  },
  {
   "cell_type": "markdown",
   "id": "58b1a9e7",
   "metadata": {},
   "source": [
    "### Validate the model with the 2nd VADER method by tokenizing sentences"
   ]
  },
  {
   "cell_type": "code",
   "execution_count": 33,
   "id": "6e55ca6f",
   "metadata": {},
   "outputs": [],
   "source": [
    "#adding the validation dataset\n",
    "val_data = pd.read_csv(\"jigsaw-toxic-severity-rating/validation_data.csv\")"
   ]
  },
  {
   "cell_type": "code",
   "execution_count": 34,
   "id": "0bb0d067",
   "metadata": {},
   "outputs": [],
   "source": [
    "from nltk.sentiment.vader import SentimentIntensityAnalyzer\n",
    "from nltk import tokenize\n",
    "\n",
    "score1_vader2=[]\n",
    "score2_vader2=[]\n",
    "results_vader2=[]\n",
    "sid = SentimentIntensityAnalyzer()\n",
    "for index, row in val_data.iterrows():\n",
    "    \n",
    "    #comment1\n",
    "    line1_score=[]\n",
    "    comment1 = row['less_toxic']\n",
    "    lines1 = tokenize.sent_tokenize(comment1)\n",
    "    for l in lines1:\n",
    "        ss = sid.polarity_scores(l)\n",
    "        line1_score.append(ss['compound'])\n",
    "    avg_score1 = sum(line1_score)/len(line1_score)\n",
    "    score1_vader2.append(avg_score)\n",
    "\n",
    "    #comment2\n",
    "    line2_score=[]\n",
    "    comment2 = row['more_toxic']\n",
    "    lines2 = tokenize.sent_tokenize(comment2)\n",
    "    for l in lines2:\n",
    "        ss = sid.polarity_scores(l)\n",
    "        line2_score.append(ss['compound'])\n",
    "    avg_score2 = sum(line2_score)/len(line2_score)\n",
    "    score2_vader2.append(avg_score2)\n",
    "    \n",
    "    #append the result outcome, 1 if our toxicity match with rankers else 0\n",
    "    if avg_score1>avg_score2:\n",
    "        result = 1\n",
    "    else:\n",
    "        result = 0\n",
    "    results_vader2.append(result)"
   ]
  },
  {
   "cell_type": "code",
   "execution_count": 37,
   "id": "d839ff63",
   "metadata": {},
   "outputs": [
    {
     "data": {
      "text/plain": [
       "30108"
      ]
     },
     "execution_count": 37,
     "metadata": {},
     "output_type": "execute_result"
    }
   ],
   "source": [
    "len(val_data)"
   ]
  },
  {
   "cell_type": "code",
   "execution_count": 38,
   "id": "612c7bc8",
   "metadata": {},
   "outputs": [],
   "source": [
    "val_data[\"score1\"] = score1_vader2\n",
    "val_data[\"score2\"] = score2_vader2\n",
    "val_data[\"result\"] = results_vader2"
   ]
  },
  {
   "cell_type": "code",
   "execution_count": 39,
   "id": "0d8eb82d",
   "metadata": {},
   "outputs": [
    {
     "data": {
      "text/html": [
       "<div>\n",
       "<style scoped>\n",
       "    .dataframe tbody tr th:only-of-type {\n",
       "        vertical-align: middle;\n",
       "    }\n",
       "\n",
       "    .dataframe tbody tr th {\n",
       "        vertical-align: top;\n",
       "    }\n",
       "\n",
       "    .dataframe thead th {\n",
       "        text-align: right;\n",
       "    }\n",
       "</style>\n",
       "<table border=\"1\" class=\"dataframe\">\n",
       "  <thead>\n",
       "    <tr style=\"text-align: right;\">\n",
       "      <th></th>\n",
       "      <th>worker</th>\n",
       "      <th>less_toxic</th>\n",
       "      <th>more_toxic</th>\n",
       "      <th>score1</th>\n",
       "      <th>score2</th>\n",
       "      <th>result</th>\n",
       "    </tr>\n",
       "  </thead>\n",
       "  <tbody>\n",
       "    <tr>\n",
       "      <th>0</th>\n",
       "      <td>313</td>\n",
       "      <td>This article sucks \\n\\nwoo woo wooooooo</td>\n",
       "      <td>WHAT!!!!!!!!?!?!!?!?!!?!?!?!?!!!!!!!!!!!!!!!!!...</td>\n",
       "      <td>0.34</td>\n",
       "      <td>0.249833</td>\n",
       "      <td>1</td>\n",
       "    </tr>\n",
       "    <tr>\n",
       "      <th>1</th>\n",
       "      <td>188</td>\n",
       "      <td>\"And yes, people should recognize that but the...</td>\n",
       "      <td>Daphne Guinness \\n\\nTop of the mornin' my fav...</td>\n",
       "      <td>0.34</td>\n",
       "      <td>-0.018450</td>\n",
       "      <td>1</td>\n",
       "    </tr>\n",
       "    <tr>\n",
       "      <th>2</th>\n",
       "      <td>82</td>\n",
       "      <td>Western Media?\\n\\nYup, because every crime in...</td>\n",
       "      <td>\"Atom you don't believe actual photos of mastu...</td>\n",
       "      <td>0.34</td>\n",
       "      <td>-0.073043</td>\n",
       "      <td>0</td>\n",
       "    </tr>\n",
       "    <tr>\n",
       "      <th>3</th>\n",
       "      <td>347</td>\n",
       "      <td>And you removed it! You numbskull! I don't car...</td>\n",
       "      <td>You seem to have sand in your vagina.\\n\\nMight...</td>\n",
       "      <td>0.34</td>\n",
       "      <td>-0.392250</td>\n",
       "      <td>1</td>\n",
       "    </tr>\n",
       "    <tr>\n",
       "      <th>4</th>\n",
       "      <td>539</td>\n",
       "      <td>smelly vagina \\n\\nBluerasberry why don't you ...</td>\n",
       "      <td>hey \\n\\nway to support nazis, you racist</td>\n",
       "      <td>0.34</td>\n",
       "      <td>-0.318200</td>\n",
       "      <td>1</td>\n",
       "    </tr>\n",
       "  </tbody>\n",
       "</table>\n",
       "</div>"
      ],
      "text/plain": [
       "   worker                                         less_toxic  \\\n",
       "0     313            This article sucks \\n\\nwoo woo wooooooo   \n",
       "1     188  \"And yes, people should recognize that but the...   \n",
       "2      82   Western Media?\\n\\nYup, because every crime in...   \n",
       "3     347  And you removed it! You numbskull! I don't car...   \n",
       "4     539   smelly vagina \\n\\nBluerasberry why don't you ...   \n",
       "\n",
       "                                          more_toxic  score1    score2  result  \n",
       "0  WHAT!!!!!!!!?!?!!?!?!!?!?!?!?!!!!!!!!!!!!!!!!!...    0.34  0.249833       1  \n",
       "1   Daphne Guinness \\n\\nTop of the mornin' my fav...    0.34 -0.018450       1  \n",
       "2  \"Atom you don't believe actual photos of mastu...    0.34 -0.073043       0  \n",
       "3  You seem to have sand in your vagina.\\n\\nMight...    0.34 -0.392250       1  \n",
       "4           hey \\n\\nway to support nazis, you racist    0.34 -0.318200       1  "
      ]
     },
     "execution_count": 39,
     "metadata": {},
     "output_type": "execute_result"
    }
   ],
   "source": [
    "val_data.head()"
   ]
  },
  {
   "cell_type": "code",
   "execution_count": 40,
   "id": "16f486ad",
   "metadata": {},
   "outputs": [
    {
     "data": {
      "text/plain": [
       "1    0.583533\n",
       "0    0.416467\n",
       "Name: result, dtype: float64"
      ]
     },
     "execution_count": 40,
     "metadata": {},
     "output_type": "execute_result"
    }
   ],
   "source": [
    "val_data['result'].value_counts(normalize=True)"
   ]
  },
  {
   "cell_type": "markdown",
   "id": "4af37f4b",
   "metadata": {},
   "source": [
    "#### Accuracy is 58.35 after tokenizing sentences so it's not improved significantly. Since VADER model is primarily to guage text sentiment, it may not be a good method for analyzing toxicity"
   ]
  },
  {
   "cell_type": "code",
   "execution_count": null,
   "id": "cc58cad3",
   "metadata": {},
   "outputs": [],
   "source": []
  }
 ],
 "metadata": {
  "kernelspec": {
   "display_name": "Python 3 (ipykernel)",
   "language": "python",
   "name": "python3"
  },
  "language_info": {
   "codemirror_mode": {
    "name": "ipython",
    "version": 3
   },
   "file_extension": ".py",
   "mimetype": "text/x-python",
   "name": "python",
   "nbconvert_exporter": "python",
   "pygments_lexer": "ipython3",
   "version": "3.8.2"
  }
 },
 "nbformat": 4,
 "nbformat_minor": 5
}
