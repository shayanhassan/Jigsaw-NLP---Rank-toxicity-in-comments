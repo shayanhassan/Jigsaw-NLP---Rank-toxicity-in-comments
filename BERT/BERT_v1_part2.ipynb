{
 "cells": [
  {
   "cell_type": "code",
   "execution_count": 2,
   "id": "a6f749ab",
   "metadata": {},
   "outputs": [],
   "source": [
    "import pandas as pd"
   ]
  },
  {
   "cell_type": "code",
   "execution_count": 3,
   "id": "4961a4f2",
   "metadata": {},
   "outputs": [],
   "source": [
    "df = pd.read_csv(\"BERT_result.csv\")"
   ]
  },
  {
   "cell_type": "code",
   "execution_count": 4,
   "id": "03236df1",
   "metadata": {},
   "outputs": [
    {
     "data": {
      "text/html": [
       "<div>\n",
       "<style scoped>\n",
       "    .dataframe tbody tr th:only-of-type {\n",
       "        vertical-align: middle;\n",
       "    }\n",
       "\n",
       "    .dataframe tbody tr th {\n",
       "        vertical-align: top;\n",
       "    }\n",
       "\n",
       "    .dataframe thead th {\n",
       "        text-align: right;\n",
       "    }\n",
       "</style>\n",
       "<table border=\"1\" class=\"dataframe\">\n",
       "  <thead>\n",
       "    <tr style=\"text-align: right;\">\n",
       "      <th></th>\n",
       "      <th>id</th>\n",
       "      <th>toxic</th>\n",
       "      <th>severe_toxic</th>\n",
       "      <th>obscene</th>\n",
       "      <th>threat</th>\n",
       "      <th>insult</th>\n",
       "      <th>identity_hate</th>\n",
       "    </tr>\n",
       "  </thead>\n",
       "  <tbody>\n",
       "    <tr>\n",
       "      <th>0</th>\n",
       "      <td>0</td>\n",
       "      <td>0.979211</td>\n",
       "      <td>0.036279</td>\n",
       "      <td>0.851878</td>\n",
       "      <td>0.004419</td>\n",
       "      <td>0.279385</td>\n",
       "      <td>0.011776</td>\n",
       "    </tr>\n",
       "    <tr>\n",
       "      <th>1</th>\n",
       "      <td>1</td>\n",
       "      <td>0.020294</td>\n",
       "      <td>0.002549</td>\n",
       "      <td>0.006284</td>\n",
       "      <td>0.003297</td>\n",
       "      <td>0.006498</td>\n",
       "      <td>0.003401</td>\n",
       "    </tr>\n",
       "    <tr>\n",
       "      <th>2</th>\n",
       "      <td>2</td>\n",
       "      <td>0.430808</td>\n",
       "      <td>0.001915</td>\n",
       "      <td>0.011044</td>\n",
       "      <td>0.004015</td>\n",
       "      <td>0.018549</td>\n",
       "      <td>0.015397</td>\n",
       "    </tr>\n",
       "    <tr>\n",
       "      <th>3</th>\n",
       "      <td>3</td>\n",
       "      <td>0.969934</td>\n",
       "      <td>0.010026</td>\n",
       "      <td>0.070890</td>\n",
       "      <td>0.035758</td>\n",
       "      <td>0.466163</td>\n",
       "      <td>0.011997</td>\n",
       "    </tr>\n",
       "    <tr>\n",
       "      <th>4</th>\n",
       "      <td>4</td>\n",
       "      <td>0.976363</td>\n",
       "      <td>0.017997</td>\n",
       "      <td>0.635038</td>\n",
       "      <td>0.004388</td>\n",
       "      <td>0.274520</td>\n",
       "      <td>0.027265</td>\n",
       "    </tr>\n",
       "    <tr>\n",
       "      <th>...</th>\n",
       "      <td>...</td>\n",
       "      <td>...</td>\n",
       "      <td>...</td>\n",
       "      <td>...</td>\n",
       "      <td>...</td>\n",
       "      <td>...</td>\n",
       "      <td>...</td>\n",
       "    </tr>\n",
       "    <tr>\n",
       "      <th>60211</th>\n",
       "      <td>60211</td>\n",
       "      <td>0.974542</td>\n",
       "      <td>0.095683</td>\n",
       "      <td>0.912055</td>\n",
       "      <td>0.010177</td>\n",
       "      <td>0.231639</td>\n",
       "      <td>0.014712</td>\n",
       "    </tr>\n",
       "    <tr>\n",
       "      <th>60212</th>\n",
       "      <td>60212</td>\n",
       "      <td>0.974542</td>\n",
       "      <td>0.095683</td>\n",
       "      <td>0.912055</td>\n",
       "      <td>0.010177</td>\n",
       "      <td>0.231639</td>\n",
       "      <td>0.014712</td>\n",
       "    </tr>\n",
       "    <tr>\n",
       "      <th>60213</th>\n",
       "      <td>60213</td>\n",
       "      <td>0.984870</td>\n",
       "      <td>0.026884</td>\n",
       "      <td>0.733643</td>\n",
       "      <td>0.007201</td>\n",
       "      <td>0.888942</td>\n",
       "      <td>0.048846</td>\n",
       "    </tr>\n",
       "    <tr>\n",
       "      <th>60214</th>\n",
       "      <td>60214</td>\n",
       "      <td>0.984870</td>\n",
       "      <td>0.026884</td>\n",
       "      <td>0.733643</td>\n",
       "      <td>0.007201</td>\n",
       "      <td>0.888942</td>\n",
       "      <td>0.048846</td>\n",
       "    </tr>\n",
       "    <tr>\n",
       "      <th>60215</th>\n",
       "      <td>60215</td>\n",
       "      <td>0.984870</td>\n",
       "      <td>0.026884</td>\n",
       "      <td>0.733643</td>\n",
       "      <td>0.007201</td>\n",
       "      <td>0.888942</td>\n",
       "      <td>0.048846</td>\n",
       "    </tr>\n",
       "  </tbody>\n",
       "</table>\n",
       "<p>60216 rows × 7 columns</p>\n",
       "</div>"
      ],
      "text/plain": [
       "          id     toxic  severe_toxic   obscene    threat    insult  \\\n",
       "0          0  0.979211      0.036279  0.851878  0.004419  0.279385   \n",
       "1          1  0.020294      0.002549  0.006284  0.003297  0.006498   \n",
       "2          2  0.430808      0.001915  0.011044  0.004015  0.018549   \n",
       "3          3  0.969934      0.010026  0.070890  0.035758  0.466163   \n",
       "4          4  0.976363      0.017997  0.635038  0.004388  0.274520   \n",
       "...      ...       ...           ...       ...       ...       ...   \n",
       "60211  60211  0.974542      0.095683  0.912055  0.010177  0.231639   \n",
       "60212  60212  0.974542      0.095683  0.912055  0.010177  0.231639   \n",
       "60213  60213  0.984870      0.026884  0.733643  0.007201  0.888942   \n",
       "60214  60214  0.984870      0.026884  0.733643  0.007201  0.888942   \n",
       "60215  60215  0.984870      0.026884  0.733643  0.007201  0.888942   \n",
       "\n",
       "       identity_hate  \n",
       "0           0.011776  \n",
       "1           0.003401  \n",
       "2           0.015397  \n",
       "3           0.011997  \n",
       "4           0.027265  \n",
       "...              ...  \n",
       "60211       0.014712  \n",
       "60212       0.014712  \n",
       "60213       0.048846  \n",
       "60214       0.048846  \n",
       "60215       0.048846  \n",
       "\n",
       "[60216 rows x 7 columns]"
      ]
     },
     "execution_count": 4,
     "metadata": {},
     "output_type": "execute_result"
    }
   ],
   "source": [
    "df"
   ]
  },
  {
   "cell_type": "code",
   "execution_count": 12,
   "id": "b481bd2c",
   "metadata": {},
   "outputs": [
    {
     "data": {
      "text/html": [
       "<div>\n",
       "<style scoped>\n",
       "    .dataframe tbody tr th:only-of-type {\n",
       "        vertical-align: middle;\n",
       "    }\n",
       "\n",
       "    .dataframe tbody tr th {\n",
       "        vertical-align: top;\n",
       "    }\n",
       "\n",
       "    .dataframe thead th {\n",
       "        text-align: right;\n",
       "    }\n",
       "</style>\n",
       "<table border=\"1\" class=\"dataframe\">\n",
       "  <thead>\n",
       "    <tr style=\"text-align: right;\">\n",
       "      <th></th>\n",
       "      <th>id</th>\n",
       "      <th>toxic</th>\n",
       "      <th>severe_toxic</th>\n",
       "      <th>obscene</th>\n",
       "      <th>threat</th>\n",
       "      <th>insult</th>\n",
       "      <th>identity_hate</th>\n",
       "    </tr>\n",
       "  </thead>\n",
       "  <tbody>\n",
       "    <tr>\n",
       "      <th>count</th>\n",
       "      <td>60216.000000</td>\n",
       "      <td>60216.000000</td>\n",
       "      <td>60216.000000</td>\n",
       "      <td>60216.000000</td>\n",
       "      <td>60216.000000</td>\n",
       "      <td>60216.000000</td>\n",
       "      <td>60216.000000</td>\n",
       "    </tr>\n",
       "    <tr>\n",
       "      <th>mean</th>\n",
       "      <td>30107.500000</td>\n",
       "      <td>0.622232</td>\n",
       "      <td>0.062150</td>\n",
       "      <td>0.285174</td>\n",
       "      <td>0.019729</td>\n",
       "      <td>0.284461</td>\n",
       "      <td>0.061608</td>\n",
       "    </tr>\n",
       "    <tr>\n",
       "      <th>std</th>\n",
       "      <td>17383.006242</td>\n",
       "      <td>0.376176</td>\n",
       "      <td>0.147992</td>\n",
       "      <td>0.374498</td>\n",
       "      <td>0.066131</td>\n",
       "      <td>0.340622</td>\n",
       "      <td>0.149591</td>\n",
       "    </tr>\n",
       "    <tr>\n",
       "      <th>min</th>\n",
       "      <td>0.000000</td>\n",
       "      <td>0.003897</td>\n",
       "      <td>0.001250</td>\n",
       "      <td>0.003353</td>\n",
       "      <td>0.001265</td>\n",
       "      <td>0.004191</td>\n",
       "      <td>0.002244</td>\n",
       "    </tr>\n",
       "    <tr>\n",
       "      <th>25%</th>\n",
       "      <td>15053.750000</td>\n",
       "      <td>0.208390</td>\n",
       "      <td>0.002172</td>\n",
       "      <td>0.011367</td>\n",
       "      <td>0.003140</td>\n",
       "      <td>0.017012</td>\n",
       "      <td>0.004488</td>\n",
       "    </tr>\n",
       "    <tr>\n",
       "      <th>50%</th>\n",
       "      <td>30107.500000</td>\n",
       "      <td>0.800316</td>\n",
       "      <td>0.003588</td>\n",
       "      <td>0.053217</td>\n",
       "      <td>0.004569</td>\n",
       "      <td>0.097762</td>\n",
       "      <td>0.009376</td>\n",
       "    </tr>\n",
       "    <tr>\n",
       "      <th>75%</th>\n",
       "      <td>45161.250000</td>\n",
       "      <td>0.957666</td>\n",
       "      <td>0.020042</td>\n",
       "      <td>0.584960</td>\n",
       "      <td>0.010370</td>\n",
       "      <td>0.523107</td>\n",
       "      <td>0.034778</td>\n",
       "    </tr>\n",
       "    <tr>\n",
       "      <th>max</th>\n",
       "      <td>60215.000000</td>\n",
       "      <td>0.997612</td>\n",
       "      <td>0.874288</td>\n",
       "      <td>0.995518</td>\n",
       "      <td>0.840091</td>\n",
       "      <td>0.986839</td>\n",
       "      <td>0.947549</td>\n",
       "    </tr>\n",
       "  </tbody>\n",
       "</table>\n",
       "</div>"
      ],
      "text/plain": [
       "                 id         toxic  severe_toxic       obscene        threat  \\\n",
       "count  60216.000000  60216.000000  60216.000000  60216.000000  60216.000000   \n",
       "mean   30107.500000      0.622232      0.062150      0.285174      0.019729   \n",
       "std    17383.006242      0.376176      0.147992      0.374498      0.066131   \n",
       "min        0.000000      0.003897      0.001250      0.003353      0.001265   \n",
       "25%    15053.750000      0.208390      0.002172      0.011367      0.003140   \n",
       "50%    30107.500000      0.800316      0.003588      0.053217      0.004569   \n",
       "75%    45161.250000      0.957666      0.020042      0.584960      0.010370   \n",
       "max    60215.000000      0.997612      0.874288      0.995518      0.840091   \n",
       "\n",
       "             insult  identity_hate  \n",
       "count  60216.000000   60216.000000  \n",
       "mean       0.284461       0.061608  \n",
       "std        0.340622       0.149591  \n",
       "min        0.004191       0.002244  \n",
       "25%        0.017012       0.004488  \n",
       "50%        0.097762       0.009376  \n",
       "75%        0.523107       0.034778  \n",
       "max        0.986839       0.947549  "
      ]
     },
     "execution_count": 12,
     "metadata": {},
     "output_type": "execute_result"
    }
   ],
   "source": [
    "df.describe()"
   ]
  },
  {
   "cell_type": "code",
   "execution_count": 5,
   "id": "46c6ea96",
   "metadata": {},
   "outputs": [],
   "source": [
    "import matplotlib.pyplot as plt\n",
    "import seaborn as sns"
   ]
  },
  {
   "cell_type": "code",
   "execution_count": 16,
   "id": "5e4e3f9c",
   "metadata": {},
   "outputs": [
    {
     "data": {
      "text/plain": [
       "<AxesSubplot:>"
      ]
     },
     "execution_count": 16,
     "metadata": {},
     "output_type": "execute_result"
    },
    {
     "data": {
      "image/png": "[encoded data removed]",
      "text/plain": [
       "<Figure size 432x288 with 1 Axes>"
      ]
     },
     "metadata": {
      "needs_background": "light"
     },
     "output_type": "display_data"
    }
   ],
   "source": [
    "df1 = df.drop('id', axis=1)\n",
    "sns.boxplot(data=df1)"
   ]
  },
  {
   "cell_type": "code",
   "execution_count": 6,
   "id": "c1f36c0b",
   "metadata": {},
   "outputs": [
    {
     "name": "stderr",
     "output_type": "stream",
     "text": [
      "/Users/jennifertang/opt/anaconda3/lib/python3.8/site-packages/seaborn/distributions.py:2557: FutureWarning: `distplot` is a deprecated function and will be removed in a future version. Please adapt your code to use either `displot` (a figure-level function with similar flexibility) or `histplot` (an axes-level function for histograms).\n",
      "  warnings.warn(msg, FutureWarning)\n"
     ]
    },
    {
     "data": {
      "text/plain": [
       "<AxesSubplot:xlabel='toxic', ylabel='Density'>"
      ]
     },
     "execution_count": 6,
     "metadata": {},
     "output_type": "execute_result"
    },
    {
     "data": {
      "image/png": "[encoded data removed]",
      "text/plain": [
       "<Figure size 432x288 with 1 Axes>"
      ]
     },
     "metadata": {
      "needs_background": "light"
     },
     "output_type": "display_data"
    }
   ],
   "source": [
    "sns.distplot(df.toxic)"
   ]
  },
  {
   "cell_type": "code",
   "execution_count": 7,
   "id": "1dc351b2",
   "metadata": {},
   "outputs": [
    {
     "name": "stderr",
     "output_type": "stream",
     "text": [
      "/Users/jennifertang/opt/anaconda3/lib/python3.8/site-packages/seaborn/distributions.py:2557: FutureWarning: `distplot` is a deprecated function and will be removed in a future version. Please adapt your code to use either `displot` (a figure-level function with similar flexibility) or `histplot` (an axes-level function for histograms).\n",
      "  warnings.warn(msg, FutureWarning)\n"
     ]
    },
    {
     "data": {
      "text/plain": [
       "<AxesSubplot:xlabel='severe_toxic', ylabel='Density'>"
      ]
     },
     "execution_count": 7,
     "metadata": {},
     "output_type": "execute_result"
    },
    {
     "data": {
      "image/png": "[encoded data removed]",
      "text/plain": [
       "<Figure size 432x288 with 1 Axes>"
      ]
     },
     "metadata": {
      "needs_background": "light"
     },
     "output_type": "display_data"
    }
   ],
   "source": [
    "sns.distplot(df.severe_toxic)"
   ]
  },
  {
   "cell_type": "code",
   "execution_count": 9,
   "id": "fb3d49e0",
   "metadata": {},
   "outputs": [
    {
     "name": "stderr",
     "output_type": "stream",
     "text": [
      "/Users/jennifertang/opt/anaconda3/lib/python3.8/site-packages/seaborn/distributions.py:2557: FutureWarning: `distplot` is a deprecated function and will be removed in a future version. Please adapt your code to use either `displot` (a figure-level function with similar flexibility) or `histplot` (an axes-level function for histograms).\n",
      "  warnings.warn(msg, FutureWarning)\n"
     ]
    },
    {
     "data": {
      "text/plain": [
       "<AxesSubplot:xlabel='obscene', ylabel='Density'>"
      ]
     },
     "execution_count": 9,
     "metadata": {},
     "output_type": "execute_result"
    },
    {
     "data": {
      "image/png": "[encoded data removed]",
      "text/plain": [
       "<Figure size 432x288 with 1 Axes>"
      ]
     },
     "metadata": {
      "needs_background": "light"
     },
     "output_type": "display_data"
    }
   ],
   "source": [
    "sns.distplot(df.obscene)"
   ]
  },
  {
   "cell_type": "code",
   "execution_count": 10,
   "id": "482e3206",
   "metadata": {},
   "outputs": [
    {
     "name": "stderr",
     "output_type": "stream",
     "text": [
      "/Users/jennifertang/opt/anaconda3/lib/python3.8/site-packages/seaborn/distributions.py:2557: FutureWarning: `distplot` is a deprecated function and will be removed in a future version. Please adapt your code to use either `displot` (a figure-level function with similar flexibility) or `histplot` (an axes-level function for histograms).\n",
      "  warnings.warn(msg, FutureWarning)\n"
     ]
    },
    {
     "data": {
      "text/plain": [
       "<AxesSubplot:xlabel='threat', ylabel='Density'>"
      ]
     },
     "execution_count": 10,
     "metadata": {},
     "output_type": "execute_result"
    },
    {
     "data": {
      "image/png": "[encoded data removed]",
      "text/plain": [
       "<Figure size 432x288 with 1 Axes>"
      ]
     },
     "metadata": {
      "needs_background": "light"
     },
     "output_type": "display_data"
    }
   ],
   "source": [
    "sns.distplot(df.threat)"
   ]
  },
  {
   "cell_type": "code",
   "execution_count": 11,
   "id": "9a766a1a",
   "metadata": {},
   "outputs": [
    {
     "name": "stderr",
     "output_type": "stream",
     "text": [
      "/Users/jennifertang/opt/anaconda3/lib/python3.8/site-packages/seaborn/distributions.py:2557: FutureWarning: `distplot` is a deprecated function and will be removed in a future version. Please adapt your code to use either `displot` (a figure-level function with similar flexibility) or `histplot` (an axes-level function for histograms).\n",
      "  warnings.warn(msg, FutureWarning)\n"
     ]
    },
    {
     "data": {
      "text/plain": [
       "<AxesSubplot:xlabel='insult', ylabel='Density'>"
      ]
     },
     "execution_count": 11,
     "metadata": {},
     "output_type": "execute_result"
    },
    {
     "data": {
      "image/png": "[encoded data removed]",
      "text/plain": [
       "<Figure size 432x288 with 1 Axes>"
      ]
     },
     "metadata": {
      "needs_background": "light"
     },
     "output_type": "display_data"
    }
   ],
   "source": [
    "sns.distplot(df.insult)"
   ]
  },
  {
   "cell_type": "code",
   "execution_count": 34,
   "id": "11fbeeb3",
   "metadata": {},
   "outputs": [
    {
     "name": "stderr",
     "output_type": "stream",
     "text": [
      "/Users/jennifertang/opt/anaconda3/lib/python3.8/site-packages/seaborn/distributions.py:2557: FutureWarning: `distplot` is a deprecated function and will be removed in a future version. Please adapt your code to use either `displot` (a figure-level function with similar flexibility) or `histplot` (an axes-level function for histograms).\n",
      "  warnings.warn(msg, FutureWarning)\n"
     ]
    },
    {
     "data": {
      "text/plain": [
       "<AxesSubplot:xlabel='identity_hate', ylabel='Density'>"
      ]
     },
     "execution_count": 34,
     "metadata": {},
     "output_type": "execute_result"
    },
    {
     "data": {
      "image/png": "[encoded data removed]",
      "text/plain": [
       "<Figure size 432x288 with 1 Axes>"
      ]
     },
     "metadata": {
      "needs_background": "light"
     },
     "output_type": "display_data"
    }
   ],
   "source": [
    "sns.distplot(df.identity_hate)"
   ]
  },
  {
   "cell_type": "code",
   "execution_count": 21,
   "id": "254069e5",
   "metadata": {},
   "outputs": [],
   "source": [
    "from sklearn.preprocessing import StandardScaler\n",
    "scaler = StandardScaler()\n",
    "df1 = scaler.fit_transform(df1)"
   ]
  },
  {
   "cell_type": "code",
   "execution_count": 27,
   "id": "b3782509",
   "metadata": {},
   "outputs": [
    {
     "data": {
      "text/html": [
       "<div>\n",
       "<style scoped>\n",
       "    .dataframe tbody tr th:only-of-type {\n",
       "        vertical-align: middle;\n",
       "    }\n",
       "\n",
       "    .dataframe tbody tr th {\n",
       "        vertical-align: top;\n",
       "    }\n",
       "\n",
       "    .dataframe thead th {\n",
       "        text-align: right;\n",
       "    }\n",
       "</style>\n",
       "<table border=\"1\" class=\"dataframe\">\n",
       "  <thead>\n",
       "    <tr style=\"text-align: right;\">\n",
       "      <th></th>\n",
       "      <th>toxic</th>\n",
       "      <th>severe_toxic</th>\n",
       "      <th>obscene</th>\n",
       "      <th>threat</th>\n",
       "      <th>insult</th>\n",
       "      <th>identity_hate</th>\n",
       "    </tr>\n",
       "  </thead>\n",
       "  <tbody>\n",
       "    <tr>\n",
       "      <th>0</th>\n",
       "      <td>0.948976</td>\n",
       "      <td>-0.174812</td>\n",
       "      <td>1.513248</td>\n",
       "      <td>-0.231519</td>\n",
       "      <td>-0.014902</td>\n",
       "      <td>-0.333129</td>\n",
       "    </tr>\n",
       "    <tr>\n",
       "      <th>1</th>\n",
       "      <td>-1.600164</td>\n",
       "      <td>-0.402736</td>\n",
       "      <td>-0.744709</td>\n",
       "      <td>-0.248482</td>\n",
       "      <td>-0.816054</td>\n",
       "      <td>-0.389114</td>\n",
       "    </tr>\n",
       "    <tr>\n",
       "      <th>2</th>\n",
       "      <td>-0.508873</td>\n",
       "      <td>-0.407018</td>\n",
       "      <td>-0.731999</td>\n",
       "      <td>-0.237622</td>\n",
       "      <td>-0.780674</td>\n",
       "      <td>-0.308922</td>\n",
       "    </tr>\n",
       "    <tr>\n",
       "      <th>3</th>\n",
       "      <td>0.924314</td>\n",
       "      <td>-0.352212</td>\n",
       "      <td>-0.572194</td>\n",
       "      <td>0.242384</td>\n",
       "      <td>0.533448</td>\n",
       "      <td>-0.331652</td>\n",
       "    </tr>\n",
       "    <tr>\n",
       "      <th>4</th>\n",
       "      <td>0.941405</td>\n",
       "      <td>-0.298347</td>\n",
       "      <td>0.934228</td>\n",
       "      <td>-0.231986</td>\n",
       "      <td>-0.029184</td>\n",
       "      <td>-0.229581</td>\n",
       "    </tr>\n",
       "    <tr>\n",
       "      <th>...</th>\n",
       "      <td>...</td>\n",
       "      <td>...</td>\n",
       "      <td>...</td>\n",
       "      <td>...</td>\n",
       "      <td>...</td>\n",
       "      <td>...</td>\n",
       "    </tr>\n",
       "    <tr>\n",
       "      <th>60211</th>\n",
       "      <td>0.936564</td>\n",
       "      <td>0.226595</td>\n",
       "      <td>1.673936</td>\n",
       "      <td>-0.144446</td>\n",
       "      <td>-0.155075</td>\n",
       "      <td>-0.313503</td>\n",
       "    </tr>\n",
       "    <tr>\n",
       "      <th>60212</th>\n",
       "      <td>0.936564</td>\n",
       "      <td>0.226595</td>\n",
       "      <td>1.673936</td>\n",
       "      <td>-0.144446</td>\n",
       "      <td>-0.155075</td>\n",
       "      <td>-0.313503</td>\n",
       "    </tr>\n",
       "    <tr>\n",
       "      <th>60213</th>\n",
       "      <td>0.964020</td>\n",
       "      <td>-0.238296</td>\n",
       "      <td>1.197531</td>\n",
       "      <td>-0.189449</td>\n",
       "      <td>1.774656</td>\n",
       "      <td>-0.085315</td>\n",
       "    </tr>\n",
       "    <tr>\n",
       "      <th>60214</th>\n",
       "      <td>0.964020</td>\n",
       "      <td>-0.238296</td>\n",
       "      <td>1.197531</td>\n",
       "      <td>-0.189449</td>\n",
       "      <td>1.774656</td>\n",
       "      <td>-0.085315</td>\n",
       "    </tr>\n",
       "    <tr>\n",
       "      <th>60215</th>\n",
       "      <td>0.964020</td>\n",
       "      <td>-0.238296</td>\n",
       "      <td>1.197531</td>\n",
       "      <td>-0.189449</td>\n",
       "      <td>1.774656</td>\n",
       "      <td>-0.085315</td>\n",
       "    </tr>\n",
       "  </tbody>\n",
       "</table>\n",
       "<p>60216 rows × 6 columns</p>\n",
       "</div>"
      ],
      "text/plain": [
       "          toxic  severe_toxic   obscene    threat    insult  identity_hate\n",
       "0      0.948976     -0.174812  1.513248 -0.231519 -0.014902      -0.333129\n",
       "1     -1.600164     -0.402736 -0.744709 -0.248482 -0.816054      -0.389114\n",
       "2     -0.508873     -0.407018 -0.731999 -0.237622 -0.780674      -0.308922\n",
       "3      0.924314     -0.352212 -0.572194  0.242384  0.533448      -0.331652\n",
       "4      0.941405     -0.298347  0.934228 -0.231986 -0.029184      -0.229581\n",
       "...         ...           ...       ...       ...       ...            ...\n",
       "60211  0.936564      0.226595  1.673936 -0.144446 -0.155075      -0.313503\n",
       "60212  0.936564      0.226595  1.673936 -0.144446 -0.155075      -0.313503\n",
       "60213  0.964020     -0.238296  1.197531 -0.189449  1.774656      -0.085315\n",
       "60214  0.964020     -0.238296  1.197531 -0.189449  1.774656      -0.085315\n",
       "60215  0.964020     -0.238296  1.197531 -0.189449  1.774656      -0.085315\n",
       "\n",
       "[60216 rows x 6 columns]"
      ]
     },
     "execution_count": 27,
     "metadata": {},
     "output_type": "execute_result"
    }
   ],
   "source": [
    "df1 = pd.DataFrame(df1)\n",
    "df1.columns=[\"toxic\", \"severe_toxic\", \"obscene\", \"threat\", \"insult\", \"identity_hate\"]\n",
    "df1"
   ]
  },
  {
   "cell_type": "code",
   "execution_count": 29,
   "id": "3cf18365",
   "metadata": {},
   "outputs": [
    {
     "data": {
      "text/html": [
       "<div>\n",
       "<style scoped>\n",
       "    .dataframe tbody tr th:only-of-type {\n",
       "        vertical-align: middle;\n",
       "    }\n",
       "\n",
       "    .dataframe tbody tr th {\n",
       "        vertical-align: top;\n",
       "    }\n",
       "\n",
       "    .dataframe thead th {\n",
       "        text-align: right;\n",
       "    }\n",
       "</style>\n",
       "<table border=\"1\" class=\"dataframe\">\n",
       "  <thead>\n",
       "    <tr style=\"text-align: right;\">\n",
       "      <th></th>\n",
       "      <th>toxic</th>\n",
       "      <th>severe_toxic</th>\n",
       "      <th>obscene</th>\n",
       "      <th>threat</th>\n",
       "      <th>insult</th>\n",
       "      <th>identity_hate</th>\n",
       "    </tr>\n",
       "  </thead>\n",
       "  <tbody>\n",
       "    <tr>\n",
       "      <th>count</th>\n",
       "      <td>6.021600e+04</td>\n",
       "      <td>6.021600e+04</td>\n",
       "      <td>6.021600e+04</td>\n",
       "      <td>6.021600e+04</td>\n",
       "      <td>6.021600e+04</td>\n",
       "      <td>6.021600e+04</td>\n",
       "    </tr>\n",
       "    <tr>\n",
       "      <th>mean</th>\n",
       "      <td>1.390648e-15</td>\n",
       "      <td>1.618468e-15</td>\n",
       "      <td>-2.082690e-15</td>\n",
       "      <td>-2.606441e-16</td>\n",
       "      <td>-1.433253e-15</td>\n",
       "      <td>-3.847712e-16</td>\n",
       "    </tr>\n",
       "    <tr>\n",
       "      <th>std</th>\n",
       "      <td>1.000008e+00</td>\n",
       "      <td>1.000008e+00</td>\n",
       "      <td>1.000008e+00</td>\n",
       "      <td>1.000008e+00</td>\n",
       "      <td>1.000008e+00</td>\n",
       "      <td>1.000008e+00</td>\n",
       "    </tr>\n",
       "    <tr>\n",
       "      <th>min</th>\n",
       "      <td>-1.643754e+00</td>\n",
       "      <td>-4.115127e-01</td>\n",
       "      <td>-7.525351e-01</td>\n",
       "      <td>-2.792133e-01</td>\n",
       "      <td>-8.228257e-01</td>\n",
       "      <td>-3.968491e-01</td>\n",
       "    </tr>\n",
       "    <tr>\n",
       "      <th>25%</th>\n",
       "      <td>-1.100140e+00</td>\n",
       "      <td>-4.052798e-01</td>\n",
       "      <td>-7.311371e-01</td>\n",
       "      <td>-2.508652e-01</td>\n",
       "      <td>-7.851863e-01</td>\n",
       "      <td>-3.818478e-01</td>\n",
       "    </tr>\n",
       "    <tr>\n",
       "      <th>50%</th>\n",
       "      <td>4.734093e-01</td>\n",
       "      <td>-3.957103e-01</td>\n",
       "      <td>-6.193853e-01</td>\n",
       "      <td>-2.292422e-01</td>\n",
       "      <td>-5.481156e-01</td>\n",
       "      <td>-3.491736e-01</td>\n",
       "    </tr>\n",
       "    <tr>\n",
       "      <th>75%</th>\n",
       "      <td>8.917017e-01</td>\n",
       "      <td>-2.845265e-01</td>\n",
       "      <td>8.005071e-01</td>\n",
       "      <td>-1.415281e-01</td>\n",
       "      <td>7.006263e-01</td>\n",
       "      <td>-1.793605e-01</td>\n",
       "    </tr>\n",
       "    <tr>\n",
       "      <th>max</th>\n",
       "      <td>9.978945e-01</td>\n",
       "      <td>5.487777e+00</td>\n",
       "      <td>1.896804e+00</td>\n",
       "      <td>1.240524e+01</td>\n",
       "      <td>2.062066e+00</td>\n",
       "      <td>5.922474e+00</td>\n",
       "    </tr>\n",
       "  </tbody>\n",
       "</table>\n",
       "</div>"
      ],
      "text/plain": [
       "              toxic  severe_toxic       obscene        threat        insult  \\\n",
       "count  6.021600e+04  6.021600e+04  6.021600e+04  6.021600e+04  6.021600e+04   \n",
       "mean   1.390648e-15  1.618468e-15 -2.082690e-15 -2.606441e-16 -1.433253e-15   \n",
       "std    1.000008e+00  1.000008e+00  1.000008e+00  1.000008e+00  1.000008e+00   \n",
       "min   -1.643754e+00 -4.115127e-01 -7.525351e-01 -2.792133e-01 -8.228257e-01   \n",
       "25%   -1.100140e+00 -4.052798e-01 -7.311371e-01 -2.508652e-01 -7.851863e-01   \n",
       "50%    4.734093e-01 -3.957103e-01 -6.193853e-01 -2.292422e-01 -5.481156e-01   \n",
       "75%    8.917017e-01 -2.845265e-01  8.005071e-01 -1.415281e-01  7.006263e-01   \n",
       "max    9.978945e-01  5.487777e+00  1.896804e+00  1.240524e+01  2.062066e+00   \n",
       "\n",
       "       identity_hate  \n",
       "count   6.021600e+04  \n",
       "mean   -3.847712e-16  \n",
       "std     1.000008e+00  \n",
       "min    -3.968491e-01  \n",
       "25%    -3.818478e-01  \n",
       "50%    -3.491736e-01  \n",
       "75%    -1.793605e-01  \n",
       "max     5.922474e+00  "
      ]
     },
     "execution_count": 29,
     "metadata": {},
     "output_type": "execute_result"
    }
   ],
   "source": [
    "df1.describe()"
   ]
  },
  {
   "cell_type": "code",
   "execution_count": 30,
   "id": "61fe951f",
   "metadata": {},
   "outputs": [
    {
     "name": "stderr",
     "output_type": "stream",
     "text": [
      "/Users/jennifertang/opt/anaconda3/lib/python3.8/site-packages/seaborn/distributions.py:2557: FutureWarning: `distplot` is a deprecated function and will be removed in a future version. Please adapt your code to use either `displot` (a figure-level function with similar flexibility) or `histplot` (an axes-level function for histograms).\n",
      "  warnings.warn(msg, FutureWarning)\n"
     ]
    },
    {
     "data": {
      "text/plain": [
       "<AxesSubplot:xlabel='toxic', ylabel='Density'>"
      ]
     },
     "execution_count": 30,
     "metadata": {},
     "output_type": "execute_result"
    },
    {
     "data": {
      "image/png": "[encoded data removed]",
      "text/plain": [
       "<Figure size 432x288 with 1 Axes>"
      ]
     },
     "metadata": {
      "needs_background": "light"
     },
     "output_type": "display_data"
    }
   ],
   "source": [
    "sns.distplot(df1.toxic)"
   ]
  },
  {
   "cell_type": "code",
   "execution_count": 31,
   "id": "511eeba0",
   "metadata": {},
   "outputs": [
    {
     "name": "stderr",
     "output_type": "stream",
     "text": [
      "/Users/jennifertang/opt/anaconda3/lib/python3.8/site-packages/seaborn/distributions.py:2557: FutureWarning: `distplot` is a deprecated function and will be removed in a future version. Please adapt your code to use either `displot` (a figure-level function with similar flexibility) or `histplot` (an axes-level function for histograms).\n",
      "  warnings.warn(msg, FutureWarning)\n"
     ]
    },
    {
     "data": {
      "text/plain": [
       "<AxesSubplot:xlabel='severe_toxic', ylabel='Density'>"
      ]
     },
     "execution_count": 31,
     "metadata": {},
     "output_type": "execute_result"
    },
    {
     "data": {
      "image/png": "[encoded data removed]",
      "text/plain": [
       "<Figure size 432x288 with 1 Axes>"
      ]
     },
     "metadata": {
      "needs_background": "light"
     },
     "output_type": "display_data"
    }
   ],
   "source": [
    "sns.distplot(df1.severe_toxic)"
   ]
  },
  {
   "cell_type": "code",
   "execution_count": 33,
   "id": "73052f6e",
   "metadata": {},
   "outputs": [],
   "source": [
    "def shift(x):\n",
    "    return x+1\n",
    "\n",
    "df[\"severe_toxic\"] = df[\"severe_toxic\"].apply(shift)\n",
    "df[\"obscene\"] = df[\"obscene\"].apply(shift)\n",
    "df[\"threat\"] = df[\"threat\"].apply(shift)\n",
    "df[\"insult\"] = df[\"insult\"].apply(shift)\n",
    "df[\"identity_hate\"] = df[\"identity_hate\"].apply(shift)"
   ]
  },
  {
   "cell_type": "code",
   "execution_count": 35,
   "id": "3016ee23",
   "metadata": {},
   "outputs": [],
   "source": [
    "def total(x):\n",
    "    s = x.toxic + x.severe_toxic + x.obscene + x.threat + x.insult + x.identity_hate\n",
    "    return s\n",
    "\n",
    "df[\"total_score\"] = df[[\"toxic\", \"severe_toxic\", \"obscene\", \"threat\", \"insult\", \"identity_hate\"]].apply(total, axis=1)"
   ]
  },
  {
   "cell_type": "code",
   "execution_count": 36,
   "id": "4976ed03",
   "metadata": {},
   "outputs": [],
   "source": [
    "less_toxic_score = []\n",
    "for i in range(int(len(df)/2)):\n",
    "    less_toxic_score.append(df.total_score[i])"
   ]
  },
  {
   "cell_type": "code",
   "execution_count": 37,
   "id": "e74e6d5b",
   "metadata": {},
   "outputs": [
    {
     "data": {
      "text/plain": [
       "30108"
      ]
     },
     "execution_count": 37,
     "metadata": {},
     "output_type": "execute_result"
    }
   ],
   "source": [
    "len(less_toxic_score)"
   ]
  },
  {
   "cell_type": "code",
   "execution_count": 38,
   "id": "85a13a50",
   "metadata": {},
   "outputs": [],
   "source": [
    "more_toxic_score = []\n",
    "for i in range(int(len(df)/2)):\n",
    "    more_toxic_score.append(df.total_score[i+30108])"
   ]
  },
  {
   "cell_type": "code",
   "execution_count": 39,
   "id": "53f66b42",
   "metadata": {},
   "outputs": [
    {
     "data": {
      "text/plain": [
       "30108"
      ]
     },
     "execution_count": 39,
     "metadata": {},
     "output_type": "execute_result"
    }
   ],
   "source": [
    "len(more_toxic_score)"
   ]
  },
  {
   "cell_type": "code",
   "execution_count": 41,
   "id": "efa32897",
   "metadata": {},
   "outputs": [],
   "source": [
    "validation = pd.read_csv(\"/Users/jennifertang/Downloads/4. Jigsaw Rate Severity of Toxic Comments/dataset/validation_data.csv\")"
   ]
  },
  {
   "cell_type": "code",
   "execution_count": 42,
   "id": "14702c23",
   "metadata": {},
   "outputs": [],
   "source": [
    "validation[\"less_toxic_score\"] = less_toxic_score\n",
    "validation[\"more_toxic_score\"] = more_toxic_score"
   ]
  },
  {
   "cell_type": "code",
   "execution_count": 43,
   "id": "6463eb84",
   "metadata": {},
   "outputs": [
    {
     "data": {
      "text/html": [
       "<div>\n",
       "<style scoped>\n",
       "    .dataframe tbody tr th:only-of-type {\n",
       "        vertical-align: middle;\n",
       "    }\n",
       "\n",
       "    .dataframe tbody tr th {\n",
       "        vertical-align: top;\n",
       "    }\n",
       "\n",
       "    .dataframe thead th {\n",
       "        text-align: right;\n",
       "    }\n",
       "</style>\n",
       "<table border=\"1\" class=\"dataframe\">\n",
       "  <thead>\n",
       "    <tr style=\"text-align: right;\">\n",
       "      <th></th>\n",
       "      <th>worker</th>\n",
       "      <th>less_toxic</th>\n",
       "      <th>more_toxic</th>\n",
       "      <th>less_toxic_score</th>\n",
       "      <th>more_toxic_score</th>\n",
       "    </tr>\n",
       "  </thead>\n",
       "  <tbody>\n",
       "    <tr>\n",
       "      <th>0</th>\n",
       "      <td>313</td>\n",
       "      <td>This article sucks \\n\\nwoo woo wooooooo</td>\n",
       "      <td>WHAT!!!!!!!!?!?!!?!?!!?!?!?!?!!!!!!!!!!!!!!!!!...</td>\n",
       "      <td>7.162948</td>\n",
       "      <td>6.597383</td>\n",
       "    </tr>\n",
       "    <tr>\n",
       "      <th>1</th>\n",
       "      <td>188</td>\n",
       "      <td>\"And yes, people should recognize that but the...</td>\n",
       "      <td>Daphne Guinness \\n\\nTop of the mornin' my fav...</td>\n",
       "      <td>5.042323</td>\n",
       "      <td>6.763073</td>\n",
       "    </tr>\n",
       "    <tr>\n",
       "      <th>2</th>\n",
       "      <td>82</td>\n",
       "      <td>Western Media?\\n\\nYup, because every crime in...</td>\n",
       "      <td>\"Atom you don't believe actual photos of mastu...</td>\n",
       "      <td>5.481728</td>\n",
       "      <td>5.980596</td>\n",
       "    </tr>\n",
       "    <tr>\n",
       "      <th>3</th>\n",
       "      <td>347</td>\n",
       "      <td>And you removed it! You numbskull! I don't car...</td>\n",
       "      <td>You seem to have sand in your vagina.\\n\\nMight...</td>\n",
       "      <td>6.564767</td>\n",
       "      <td>8.368140</td>\n",
       "    </tr>\n",
       "    <tr>\n",
       "      <th>4</th>\n",
       "      <td>539</td>\n",
       "      <td>smelly vagina \\n\\nBluerasberry why don't you ...</td>\n",
       "      <td>hey \\n\\nway to support nazis, you racist</td>\n",
       "      <td>6.935572</td>\n",
       "      <td>7.201795</td>\n",
       "    </tr>\n",
       "    <tr>\n",
       "      <th>...</th>\n",
       "      <td>...</td>\n",
       "      <td>...</td>\n",
       "      <td>...</td>\n",
       "      <td>...</td>\n",
       "      <td>...</td>\n",
       "    </tr>\n",
       "    <tr>\n",
       "      <th>30103</th>\n",
       "      <td>461</td>\n",
       "      <td>I'm sorry. I'm not an admin. I will give you t...</td>\n",
       "      <td>get out my large penis</td>\n",
       "      <td>5.099799</td>\n",
       "      <td>7.238808</td>\n",
       "    </tr>\n",
       "    <tr>\n",
       "      <th>30104</th>\n",
       "      <td>527</td>\n",
       "      <td>I'm sorry. I'm not an admin. I will give you t...</td>\n",
       "      <td>get out my large penis</td>\n",
       "      <td>5.099799</td>\n",
       "      <td>7.238808</td>\n",
       "    </tr>\n",
       "    <tr>\n",
       "      <th>30105</th>\n",
       "      <td>352</td>\n",
       "      <td>wow...\\nare you out of your mind, how was my e...</td>\n",
       "      <td>Piss off you slant eyed-gook</td>\n",
       "      <td>5.612454</td>\n",
       "      <td>7.690386</td>\n",
       "    </tr>\n",
       "    <tr>\n",
       "      <th>30106</th>\n",
       "      <td>311</td>\n",
       "      <td>wow...\\nare you out of your mind, how was my e...</td>\n",
       "      <td>Piss off you slant eyed-gook</td>\n",
       "      <td>5.612454</td>\n",
       "      <td>7.690386</td>\n",
       "    </tr>\n",
       "    <tr>\n",
       "      <th>30107</th>\n",
       "      <td>54</td>\n",
       "      <td>wow...\\nare you out of your mind, how was my e...</td>\n",
       "      <td>Piss off you slant eyed-gook</td>\n",
       "      <td>5.612454</td>\n",
       "      <td>7.690386</td>\n",
       "    </tr>\n",
       "  </tbody>\n",
       "</table>\n",
       "<p>30108 rows × 5 columns</p>\n",
       "</div>"
      ],
      "text/plain": [
       "       worker                                         less_toxic  \\\n",
       "0         313            This article sucks \\n\\nwoo woo wooooooo   \n",
       "1         188  \"And yes, people should recognize that but the...   \n",
       "2          82   Western Media?\\n\\nYup, because every crime in...   \n",
       "3         347  And you removed it! You numbskull! I don't car...   \n",
       "4         539   smelly vagina \\n\\nBluerasberry why don't you ...   \n",
       "...       ...                                                ...   \n",
       "30103     461  I'm sorry. I'm not an admin. I will give you t...   \n",
       "30104     527  I'm sorry. I'm not an admin. I will give you t...   \n",
       "30105     352  wow...\\nare you out of your mind, how was my e...   \n",
       "30106     311  wow...\\nare you out of your mind, how was my e...   \n",
       "30107      54  wow...\\nare you out of your mind, how was my e...   \n",
       "\n",
       "                                              more_toxic  less_toxic_score  \\\n",
       "0      WHAT!!!!!!!!?!?!!?!?!!?!?!?!?!!!!!!!!!!!!!!!!!...          7.162948   \n",
       "1       Daphne Guinness \\n\\nTop of the mornin' my fav...          5.042323   \n",
       "2      \"Atom you don't believe actual photos of mastu...          5.481728   \n",
       "3      You seem to have sand in your vagina.\\n\\nMight...          6.564767   \n",
       "4               hey \\n\\nway to support nazis, you racist          6.935572   \n",
       "...                                                  ...               ...   \n",
       "30103                             get out my large penis          5.099799   \n",
       "30104                             get out my large penis          5.099799   \n",
       "30105                       Piss off you slant eyed-gook          5.612454   \n",
       "30106                       Piss off you slant eyed-gook          5.612454   \n",
       "30107                       Piss off you slant eyed-gook          5.612454   \n",
       "\n",
       "       more_toxic_score  \n",
       "0              6.597383  \n",
       "1              6.763073  \n",
       "2              5.980596  \n",
       "3              8.368140  \n",
       "4              7.201795  \n",
       "...                 ...  \n",
       "30103          7.238808  \n",
       "30104          7.238808  \n",
       "30105          7.690386  \n",
       "30106          7.690386  \n",
       "30107          7.690386  \n",
       "\n",
       "[30108 rows x 5 columns]"
      ]
     },
     "execution_count": 43,
     "metadata": {},
     "output_type": "execute_result"
    }
   ],
   "source": [
    "validation"
   ]
  },
  {
   "cell_type": "code",
   "execution_count": 44,
   "id": "de0cebce",
   "metadata": {},
   "outputs": [],
   "source": [
    "def function(x):\n",
    "    if x.less_toxic_score < x.more_toxic_score:\n",
    "        return 1\n",
    "    else:\n",
    "        return 0\n",
    "    \n",
    "validation[\"comparison\"] = validation[[\"less_toxic_score\", \"more_toxic_score\"]].apply(function, axis=1)"
   ]
  },
  {
   "cell_type": "code",
   "execution_count": 45,
   "id": "6e910801",
   "metadata": {},
   "outputs": [
    {
     "data": {
      "text/html": [
       "<div>\n",
       "<style scoped>\n",
       "    .dataframe tbody tr th:only-of-type {\n",
       "        vertical-align: middle;\n",
       "    }\n",
       "\n",
       "    .dataframe tbody tr th {\n",
       "        vertical-align: top;\n",
       "    }\n",
       "\n",
       "    .dataframe thead th {\n",
       "        text-align: right;\n",
       "    }\n",
       "</style>\n",
       "<table border=\"1\" class=\"dataframe\">\n",
       "  <thead>\n",
       "    <tr style=\"text-align: right;\">\n",
       "      <th></th>\n",
       "      <th>worker</th>\n",
       "      <th>less_toxic</th>\n",
       "      <th>more_toxic</th>\n",
       "      <th>less_toxic_score</th>\n",
       "      <th>more_toxic_score</th>\n",
       "      <th>comparison</th>\n",
       "    </tr>\n",
       "  </thead>\n",
       "  <tbody>\n",
       "    <tr>\n",
       "      <th>0</th>\n",
       "      <td>313</td>\n",
       "      <td>This article sucks \\n\\nwoo woo wooooooo</td>\n",
       "      <td>WHAT!!!!!!!!?!?!!?!?!!?!?!?!?!!!!!!!!!!!!!!!!!...</td>\n",
       "      <td>7.162948</td>\n",
       "      <td>6.597383</td>\n",
       "      <td>0</td>\n",
       "    </tr>\n",
       "    <tr>\n",
       "      <th>1</th>\n",
       "      <td>188</td>\n",
       "      <td>\"And yes, people should recognize that but the...</td>\n",
       "      <td>Daphne Guinness \\n\\nTop of the mornin' my fav...</td>\n",
       "      <td>5.042323</td>\n",
       "      <td>6.763073</td>\n",
       "      <td>1</td>\n",
       "    </tr>\n",
       "    <tr>\n",
       "      <th>2</th>\n",
       "      <td>82</td>\n",
       "      <td>Western Media?\\n\\nYup, because every crime in...</td>\n",
       "      <td>\"Atom you don't believe actual photos of mastu...</td>\n",
       "      <td>5.481728</td>\n",
       "      <td>5.980596</td>\n",
       "      <td>1</td>\n",
       "    </tr>\n",
       "    <tr>\n",
       "      <th>3</th>\n",
       "      <td>347</td>\n",
       "      <td>And you removed it! You numbskull! I don't car...</td>\n",
       "      <td>You seem to have sand in your vagina.\\n\\nMight...</td>\n",
       "      <td>6.564767</td>\n",
       "      <td>8.368140</td>\n",
       "      <td>1</td>\n",
       "    </tr>\n",
       "    <tr>\n",
       "      <th>4</th>\n",
       "      <td>539</td>\n",
       "      <td>smelly vagina \\n\\nBluerasberry why don't you ...</td>\n",
       "      <td>hey \\n\\nway to support nazis, you racist</td>\n",
       "      <td>6.935572</td>\n",
       "      <td>7.201795</td>\n",
       "      <td>1</td>\n",
       "    </tr>\n",
       "    <tr>\n",
       "      <th>...</th>\n",
       "      <td>...</td>\n",
       "      <td>...</td>\n",
       "      <td>...</td>\n",
       "      <td>...</td>\n",
       "      <td>...</td>\n",
       "      <td>...</td>\n",
       "    </tr>\n",
       "    <tr>\n",
       "      <th>30103</th>\n",
       "      <td>461</td>\n",
       "      <td>I'm sorry. I'm not an admin. I will give you t...</td>\n",
       "      <td>get out my large penis</td>\n",
       "      <td>5.099799</td>\n",
       "      <td>7.238808</td>\n",
       "      <td>1</td>\n",
       "    </tr>\n",
       "    <tr>\n",
       "      <th>30104</th>\n",
       "      <td>527</td>\n",
       "      <td>I'm sorry. I'm not an admin. I will give you t...</td>\n",
       "      <td>get out my large penis</td>\n",
       "      <td>5.099799</td>\n",
       "      <td>7.238808</td>\n",
       "      <td>1</td>\n",
       "    </tr>\n",
       "    <tr>\n",
       "      <th>30105</th>\n",
       "      <td>352</td>\n",
       "      <td>wow...\\nare you out of your mind, how was my e...</td>\n",
       "      <td>Piss off you slant eyed-gook</td>\n",
       "      <td>5.612454</td>\n",
       "      <td>7.690386</td>\n",
       "      <td>1</td>\n",
       "    </tr>\n",
       "    <tr>\n",
       "      <th>30106</th>\n",
       "      <td>311</td>\n",
       "      <td>wow...\\nare you out of your mind, how was my e...</td>\n",
       "      <td>Piss off you slant eyed-gook</td>\n",
       "      <td>5.612454</td>\n",
       "      <td>7.690386</td>\n",
       "      <td>1</td>\n",
       "    </tr>\n",
       "    <tr>\n",
       "      <th>30107</th>\n",
       "      <td>54</td>\n",
       "      <td>wow...\\nare you out of your mind, how was my e...</td>\n",
       "      <td>Piss off you slant eyed-gook</td>\n",
       "      <td>5.612454</td>\n",
       "      <td>7.690386</td>\n",
       "      <td>1</td>\n",
       "    </tr>\n",
       "  </tbody>\n",
       "</table>\n",
       "<p>30108 rows × 6 columns</p>\n",
       "</div>"
      ],
      "text/plain": [
       "       worker                                         less_toxic  \\\n",
       "0         313            This article sucks \\n\\nwoo woo wooooooo   \n",
       "1         188  \"And yes, people should recognize that but the...   \n",
       "2          82   Western Media?\\n\\nYup, because every crime in...   \n",
       "3         347  And you removed it! You numbskull! I don't car...   \n",
       "4         539   smelly vagina \\n\\nBluerasberry why don't you ...   \n",
       "...       ...                                                ...   \n",
       "30103     461  I'm sorry. I'm not an admin. I will give you t...   \n",
       "30104     527  I'm sorry. I'm not an admin. I will give you t...   \n",
       "30105     352  wow...\\nare you out of your mind, how was my e...   \n",
       "30106     311  wow...\\nare you out of your mind, how was my e...   \n",
       "30107      54  wow...\\nare you out of your mind, how was my e...   \n",
       "\n",
       "                                              more_toxic  less_toxic_score  \\\n",
       "0      WHAT!!!!!!!!?!?!!?!?!!?!?!?!?!!!!!!!!!!!!!!!!!...          7.162948   \n",
       "1       Daphne Guinness \\n\\nTop of the mornin' my fav...          5.042323   \n",
       "2      \"Atom you don't believe actual photos of mastu...          5.481728   \n",
       "3      You seem to have sand in your vagina.\\n\\nMight...          6.564767   \n",
       "4               hey \\n\\nway to support nazis, you racist          6.935572   \n",
       "...                                                  ...               ...   \n",
       "30103                             get out my large penis          5.099799   \n",
       "30104                             get out my large penis          5.099799   \n",
       "30105                       Piss off you slant eyed-gook          5.612454   \n",
       "30106                       Piss off you slant eyed-gook          5.612454   \n",
       "30107                       Piss off you slant eyed-gook          5.612454   \n",
       "\n",
       "       more_toxic_score  comparison  \n",
       "0              6.597383           0  \n",
       "1              6.763073           1  \n",
       "2              5.980596           1  \n",
       "3              8.368140           1  \n",
       "4              7.201795           1  \n",
       "...                 ...         ...  \n",
       "30103          7.238808           1  \n",
       "30104          7.238808           1  \n",
       "30105          7.690386           1  \n",
       "30106          7.690386           1  \n",
       "30107          7.690386           1  \n",
       "\n",
       "[30108 rows x 6 columns]"
      ]
     },
     "execution_count": 45,
     "metadata": {},
     "output_type": "execute_result"
    }
   ],
   "source": [
    "validation"
   ]
  },
  {
   "cell_type": "code",
   "execution_count": 46,
   "id": "ef6da50f",
   "metadata": {},
   "outputs": [
    {
     "data": {
      "text/plain": [
       "1    0.695098\n",
       "0    0.304902\n",
       "Name: comparison, dtype: float64"
      ]
     },
     "execution_count": 46,
     "metadata": {},
     "output_type": "execute_result"
    }
   ],
   "source": [
    "validation.comparison.value_counts(normalize=1)"
   ]
  },
  {
   "cell_type": "code",
   "execution_count": null,
   "id": "d789f506",
   "metadata": {},
   "outputs": [],
   "source": []
  }
 ],
 "metadata": {
  "kernelspec": {
   "display_name": "Python 3",
   "language": "python",
   "name": "python3"
  },
  "language_info": {
   "codemirror_mode": {
    "name": "ipython",
    "version": 3
   },
   "file_extension": ".py",
   "mimetype": "text/x-python",
   "name": "python",
   "nbconvert_exporter": "python",
   "pygments_lexer": "ipython3",
   "version": "3.8.8"
  }
 },
 "nbformat": 4,
 "nbformat_minor": 5
}
